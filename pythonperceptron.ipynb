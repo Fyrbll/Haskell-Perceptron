{
 "cells": [
  {
   "cell_type": "code",
   "execution_count": 1,
   "metadata": {
    "collapsed": false
   },
   "outputs": [
    {
     "name": "stdout",
     "output_type": "stream",
     "text": [
      "0.2342799999999987 -0.014099999999999927\n"
     ]
    },
    {
     "data": {
      "image/png": "[encoded data removed]",
      "text/plain": [
       "<matplotlib.figure.Figure at 0x18af7178e48>"
      ]
     },
     "metadata": {},
     "output_type": "display_data"
    }
   ],
   "source": [
    "import matplotlib.pyplot as plot\n",
    "import numpy\n",
    "import pandas\n",
    "\n",
    "data = pandas.read_csv('winequality-red.csv', header=None)\n",
    "#data.tail()\n",
    "\n",
    "%matplotlib inline\n",
    "\n",
    "# VARIABLES\n",
    "e = 0.001\n",
    "w = [0.0, 0.0]\n",
    "passes = 110\n",
    "# DATA\n",
    "dataTable = data.iloc[:1600, [9, 10, 11]].values\n",
    "catOne = [row for row in dataTable if row[2] == '4'][:53]\n",
    "catTwo = [row for row in dataTable if row[2] == '7'][:53]\n",
    "catAll = []\n",
    "for (a, b) in zip(catOne, catTwo): \n",
    "    catAll.append(a)\n",
    "    catAll.append(b)\n",
    "#dftoprint = pandas.DataFrame(catAll)\n",
    "#dftoprint.to_csv('processed.csv')\n",
    "# GRAPH\n",
    "plot.scatter([row[0] for row in catOne], \n",
    "             [row[1] for row in catOne],\n",
    "             color='red', marker='o', label='4')\n",
    "plot.scatter([row[0] for row in catTwo], \n",
    "             [row[1] for row in catTwo],\n",
    "             color='blue', marker='x', label='7')\n",
    "# MODIFICATION\n",
    "for i in range(passes):\n",
    "    count = 0\n",
    "    for row in catAll:\n",
    "        prediction = '7' if ((w[0] * float(row[0]) + w[1] * float(row[1])) > 0.0) else '4'\n",
    "        d = 0\n",
    "        if (prediction == '7' and row[2] == '4'):\n",
    "            d = -1.0\n",
    "        elif (prediction == '4' and row[2] == '7'):\n",
    "            d = 1.0\n",
    "        else:\n",
    "            d = 0.0\n",
    "        w[0] = w[0] + e * d * float(row[0])\n",
    "        w[1] = w[1] + e * d * float(row[1])\n",
    "        count += 1\n",
    "x = numpy.arange(0.5, 1.0, 0.1)\n",
    "print(w[0], w[1])\n",
    "y = eval('(-1 * w[0] / w[1]) * x')\n",
    "plot.plot(x, y)  \n",
    "plot.show()"
   ]
  }
 ],
 "metadata": {
  "kernelspec": {
   "display_name": "Python 3",
   "language": "python",
   "name": "python3"
  },
  "language_info": {
   "codemirror_mode": {
    "name": "ipython",
    "version": 3
   },
   "file_extension": ".py",
   "mimetype": "text/x-python",
   "name": "python",
   "nbconvert_exporter": "python",
   "pygments_lexer": "ipython3",
   "version": "3.5.2"
  }
 },
 "nbformat": 4,
 "nbformat_minor": 0
}
